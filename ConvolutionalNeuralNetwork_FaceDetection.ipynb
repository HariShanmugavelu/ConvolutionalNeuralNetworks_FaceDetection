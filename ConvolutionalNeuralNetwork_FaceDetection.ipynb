{
 "cells": [
  {
   "cell_type": "markdown",
   "metadata": {
    "colab_type": "text",
    "id": "VvWl3ebqzCc1"
   },
   "source": [
    "# Instructions\n",
    "- Some parts of the code are already done for you\n",
    "- You need to execute all the cells\n",
    "- You need to add the code where ever you see `\"#### Add your code here ####\"`\n",
    "- Marks are mentioned along with the cells"
   ]
  },
  {
   "cell_type": "markdown",
   "metadata": {
    "colab_type": "text",
    "id": "NgR0j5310qqC"
   },
   "source": [
    "# Face detection\n",
    "Task is to predict the boundaries(mask) around the face in a given image."
   ]
  },
  {
   "cell_type": "markdown",
   "metadata": {
    "colab_type": "text",
    "id": "Aa0jyJzw091I"
   },
   "source": [
    "## Dataset\n",
    "Faces in images marked with bounding boxes. Have around 500 images with around 1100 faces manually tagged via bounding box."
   ]
  },
  {
   "cell_type": "markdown",
   "metadata": {
    "colab_type": "text",
    "id": "CjRTlPkp1LC2"
   },
   "source": [
    "### Mount Google drive if you are using google colab\n",
    "- We recommend using Google Colab as you can face memory issues and longer runtimes while running on local"
   ]
  },
  {
   "cell_type": "code",
   "execution_count": 1,
   "metadata": {
    "colab": {
     "base_uri": "https://localhost:8080/",
     "height": 35
    },
    "colab_type": "code",
    "executionInfo": {
     "elapsed": 2627,
     "status": "ok",
     "timestamp": 1576988066622,
     "user": {
      "displayName": "Venkatesan M",
      "photoUrl": "https://lh3.googleusercontent.com/a-/AAuE7mAkO8LOy2izH_0OFqjCeiE_OUsTVv9XuaZ6VdCk=s64",
      "userId": "02226678451862578764"
     },
     "user_tz": -330
    },
    "id": "sBWMoTJ9cf3Z",
    "outputId": "504a741b-3cb6-487a-e0ce-54b5af57565e"
   },
   "outputs": [
    {
     "name": "stdout",
     "output_type": "stream",
     "text": [
      "Drive already mounted at /content/drive; to attempt to forcibly remount, call drive.mount(\"/content/drive\", force_remount=True).\n"
     ]
    }
   ],
   "source": [
    "from google.colab import drive\n",
    "drive.mount('/content/drive')"
   ]
  },
  {
   "cell_type": "markdown",
   "metadata": {
    "colab_type": "text",
    "id": "sO9mgMmp13sI"
   },
   "source": [
    "### Change current working directory to project folder (1 mark)"
   ]
  },
  {
   "cell_type": "code",
   "execution_count": 2,
   "metadata": {
    "colab": {
     "base_uri": "https://localhost:8080/",
     "height": 35
    },
    "colab_type": "code",
    "executionInfo": {
     "elapsed": 6562,
     "status": "ok",
     "timestamp": 1576988070592,
     "user": {
      "displayName": "Venkatesan M",
      "photoUrl": "https://lh3.googleusercontent.com/a-/AAuE7mAkO8LOy2izH_0OFqjCeiE_OUsTVv9XuaZ6VdCk=s64",
      "userId": "02226678451862578764"
     },
     "user_tz": -330
    },
    "id": "TddMnf4D1-59",
    "outputId": "3e8a21ac-4773-4dbe-d8f4-d9363bcec5d3"
   },
   "outputs": [
    {
     "name": "stdout",
     "output_type": "stream",
     "text": [
      "/content/drive/My Drive/AIML_Project/ACV-Project\n"
     ]
    }
   ],
   "source": [
    "import os\n",
    "#### Add your code here ####\n",
    "os.chdir('/content/drive/My Drive/AIML_Project/ACV-Project')\n",
    "!pwd"
   ]
  },
  {
   "cell_type": "markdown",
   "metadata": {
    "colab_type": "text",
    "id": "3srplE-FEpKa"
   },
   "source": [
    "### Load the \"images.npy\" file (4 marks)\n",
    "- This file contains images with details of bounding boxes"
   ]
  },
  {
   "cell_type": "code",
   "execution_count": 3,
   "metadata": {
    "colab": {
     "base_uri": "https://localhost:8080/",
     "height": 83
    },
    "colab_type": "code",
    "executionInfo": {
     "elapsed": 7785,
     "status": "ok",
     "timestamp": 1576988071851,
     "user": {
      "displayName": "Venkatesan M",
      "photoUrl": "https://lh3.googleusercontent.com/a-/AAuE7mAkO8LOy2izH_0OFqjCeiE_OUsTVv9XuaZ6VdCk=s64",
      "userId": "02226678451862578764"
     },
     "user_tz": -330
    },
    "id": "bEoaSKkJ9yMd",
    "outputId": "3be2d2c3-fd6a-441b-c730-b5edb438ff5e"
   },
   "outputs": [
    {
     "data": {
      "text/html": [
       "<p style=\"color: red;\">\n",
       "The default version of TensorFlow in Colab will soon switch to TensorFlow 2.x.<br>\n",
       "We recommend you <a href=\"https://www.tensorflow.org/guide/migrate\" target=\"_blank\">upgrade</a> now \n",
       "or ensure your notebook will continue to use TensorFlow 1.x via the <code>%tensorflow_version 1.x</code> magic:\n",
       "<a href=\"https://colab.research.google.com/notebooks/tensorflow_version.ipynb\" target=\"_blank\">more info</a>.</p>\n"
      ],
      "text/plain": [
       "<IPython.core.display.HTML object>"
      ]
     },
     "metadata": {
      "tags": []
     },
     "output_type": "display_data"
    },
    {
     "name": "stderr",
     "output_type": "stream",
     "text": [
      "Using TensorFlow backend.\n"
     ]
    }
   ],
   "source": [
    "# IMPORT LIBRARIES AND PACKAGES\n",
    "import tensorflow as tf\n",
    "import csv\n",
    "import numpy as np\n",
    "from PIL import Image\n",
    "\n",
    "from keras import Model\n",
    "from keras.applications.mobilenet import MobileNet, preprocess_input\n",
    "from keras.callbacks import ModelCheckpoint, EarlyStopping, ReduceLROnPlateau, Callback\n",
    "from keras.layers import Conv2D, Reshape, Input, Concatenate, UpSampling2D, Dense, BatchNormalization, Activation, Dropout\n",
    "from keras.layers.convolutional import Conv2D, Conv2DTranspose\n",
    "from keras.layers.pooling import MaxPooling2D, GlobalMaxPool2D\n",
    "from keras.layers.merge import concatenate, add\n",
    "from keras.utils import Sequence\n",
    "from keras.backend import epsilon"
   ]
  },
  {
   "cell_type": "code",
   "execution_count": 0,
   "metadata": {
    "colab": {},
    "colab_type": "code",
    "id": "w7DiwVIm93iU"
   },
   "outputs": [],
   "source": [
    "# SETTINGS\n",
    "\n",
    "DATASET_FOLDER = \"/content/drive/My Drive/AIML_Project/ACV-Project/\"\n",
    "images_file = DATASET_FOLDER + \"images.npy\""
   ]
  },
  {
   "cell_type": "code",
   "execution_count": 0,
   "metadata": {
    "colab": {},
    "colab_type": "code",
    "id": "MqFE_tZDf0sM"
   },
   "outputs": [],
   "source": [
    "import numpy as np\n",
    "#data = #### Add your code here ####\n",
    "data = np.load(images_file, allow_pickle=True)"
   ]
  },
  {
   "cell_type": "markdown",
   "metadata": {
    "colab_type": "text",
    "id": "_SMP8zliFT7R"
   },
   "source": [
    "### Check one sample from the loaded \"images.npy\" file  (4 marks)"
   ]
  },
  {
   "cell_type": "code",
   "execution_count": 6,
   "metadata": {
    "colab": {
     "base_uri": "https://localhost:8080/",
     "height": 983
    },
    "colab_type": "code",
    "executionInfo": {
     "elapsed": 10139,
     "status": "ok",
     "timestamp": 1576988074316,
     "user": {
      "displayName": "Venkatesan M",
      "photoUrl": "https://lh3.googleusercontent.com/a-/AAuE7mAkO8LOy2izH_0OFqjCeiE_OUsTVv9XuaZ6VdCk=s64",
      "userId": "02226678451862578764"
     },
     "user_tz": -330
    },
    "id": "NoqNvPK-iXqG",
    "outputId": "fa3ceb69-7d15-48aa-c8f5-556eb861a836"
   },
   "outputs": [
    {
     "name": "stdout",
     "output_type": "stream",
     "text": [
      "<class 'numpy.ndarray'>\n",
      "(409, 2)\n",
      "[array([[[42, 37, 34],\n",
      "        [56, 51, 48],\n",
      "        [71, 66, 63],\n",
      "        ...,\n",
      "        [23, 33, 34],\n",
      "        [26, 36, 37],\n",
      "        [28, 38, 39]],\n",
      "\n",
      "       [[40, 35, 32],\n",
      "        [51, 46, 43],\n",
      "        [64, 59, 56],\n",
      "        ...,\n",
      "        [27, 36, 35],\n",
      "        [24, 33, 32],\n",
      "        [26, 35, 34]],\n",
      "\n",
      "       [[43, 38, 35],\n",
      "        [51, 46, 43],\n",
      "        [61, 56, 53],\n",
      "        ...,\n",
      "        [28, 30, 27],\n",
      "        [33, 35, 32],\n",
      "        [35, 37, 34]],\n",
      "\n",
      "       ...,\n",
      "\n",
      "       [[56, 47, 40],\n",
      "        [57, 48, 41],\n",
      "        [61, 52, 45],\n",
      "        ...,\n",
      "        [67, 48, 42],\n",
      "        [55, 35, 28],\n",
      "        [60, 40, 33]],\n",
      "\n",
      "       [[53, 44, 37],\n",
      "        [54, 45, 38],\n",
      "        [57, 48, 41],\n",
      "        ...,\n",
      "        [59, 40, 34],\n",
      "        [60, 40, 33],\n",
      "        [54, 34, 27]],\n",
      "\n",
      "       [[53, 44, 37],\n",
      "        [54, 45, 38],\n",
      "        [57, 48, 41],\n",
      "        ...,\n",
      "        [59, 40, 34],\n",
      "        [70, 50, 43],\n",
      "        [64, 44, 37]]], dtype=uint8)\n",
      " list([{'label': ['Face'], 'notes': '', 'points': [{'x': 0.08615384615384615, 'y': 0.3063063063063063}, {'x': 0.1723076923076923, 'y': 0.45345345345345345}], 'imageWidth': 650, 'imageHeight': 333}, {'label': ['Face'], 'notes': '', 'points': [{'x': 0.583076923076923, 'y': 0.2912912912912913}, {'x': 0.6584615384615384, 'y': 0.46846846846846846}], 'imageWidth': 650, 'imageHeight': 333}])]\n"
     ]
    }
   ],
   "source": [
    "#### Add your code here ####\n",
    "print(type(data))\n",
    "print(data.shape)\n",
    "print(data[0])"
   ]
  },
  {
   "cell_type": "markdown",
   "metadata": {
    "colab_type": "text",
    "id": "m94G4p3CE5Cj"
   },
   "source": [
    "### Set image dimensions   (2 marks)\n",
    "- Initialize image height, image width with value: 224 "
   ]
  },
  {
   "cell_type": "code",
   "execution_count": 0,
   "metadata": {
    "colab": {},
    "colab_type": "code",
    "id": "kuZmtOASevDo"
   },
   "outputs": [],
   "source": [
    "IMAGE_WIDTH = 224 #### Add your code here ####\n",
    "IMAGE_HEIGHT = 224 #### Add your code here ####\n",
    "HEIGHT_CELLS = 28\n",
    "WIDTH_CELLS = 28"
   ]
  },
  {
   "cell_type": "markdown",
   "metadata": {
    "colab_type": "text",
    "id": "wY6FEsCjG47s"
   },
   "source": [
    "### Create features and labels\n",
    "- Here feature is the image\n",
    "- The label is the mask\n",
    "- Images will be stored in \"X_train\" array\n",
    "- Masks will be stored in \"masks\" array"
   ]
  },
  {
   "cell_type": "code",
   "execution_count": 0,
   "metadata": {
    "colab": {},
    "colab_type": "code",
    "id": "XjCT9EVTgAvr"
   },
   "outputs": [],
   "source": [
    "import cv2\n",
    "from tensorflow.keras.applications.mobilenet import preprocess_input\n",
    "\n",
    "masks = np.zeros((int(data.shape[0]), IMAGE_HEIGHT, IMAGE_WIDTH))\n",
    "X_train = np.zeros((int(data.shape[0]), IMAGE_HEIGHT, IMAGE_WIDTH, 3))\n",
    "for index in range(data.shape[0]):\n",
    "    img = data[index][0]\n",
    "    img = cv2.resize(img, dsize=(IMAGE_HEIGHT, IMAGE_WIDTH), interpolation=cv2.INTER_CUBIC)\n",
    "    try:\n",
    "      img = img[:, :, :3]\n",
    "    except:\n",
    "      continue\n",
    "    X_train[index] = preprocess_input(np.array(img, dtype=np.float32))\n",
    "    for i in data[index][1]:\n",
    "        x1 = int(i[\"points\"][0]['x'] * IMAGE_WIDTH)\n",
    "        x2 = int(i[\"points\"][1]['x'] * IMAGE_WIDTH)\n",
    "        y1 = int(i[\"points\"][0]['y'] * IMAGE_HEIGHT)\n",
    "        y2 = int(i[\"points\"][1]['y'] * IMAGE_HEIGHT)\n",
    "        masks[index][y1:y2, x1:x2] = 1"
   ]
  },
  {
   "cell_type": "markdown",
   "metadata": {
    "colab_type": "text",
    "id": "N3AYbP79bFtJ"
   },
   "source": [
    "### Print the shape of X_train and mask array  (1 mark)"
   ]
  },
  {
   "cell_type": "code",
   "execution_count": 9,
   "metadata": {
    "colab": {
     "base_uri": "https://localhost:8080/",
     "height": 35
    },
    "colab_type": "code",
    "executionInfo": {
     "elapsed": 10426,
     "status": "ok",
     "timestamp": 1576988074739,
     "user": {
      "displayName": "Venkatesan M",
      "photoUrl": "https://lh3.googleusercontent.com/a-/AAuE7mAkO8LOy2izH_0OFqjCeiE_OUsTVv9XuaZ6VdCk=s64",
      "userId": "02226678451862578764"
     },
     "user_tz": -330
    },
    "id": "3PIRaEdWIjDa",
    "outputId": "bc345cf8-0708-422b-ef08-7ad0035f1ad2"
   },
   "outputs": [
    {
     "data": {
      "text/plain": [
       "(409, 224, 224, 3)"
      ]
     },
     "execution_count": 9,
     "metadata": {
      "tags": []
     },
     "output_type": "execute_result"
    }
   ],
   "source": [
    "#### Add your code here ####\n",
    "X_train.shape"
   ]
  },
  {
   "cell_type": "code",
   "execution_count": 10,
   "metadata": {
    "colab": {
     "base_uri": "https://localhost:8080/",
     "height": 54
    },
    "colab_type": "code",
    "executionInfo": {
     "elapsed": 10354,
     "status": "ok",
     "timestamp": 1576988074743,
     "user": {
      "displayName": "Venkatesan M",
      "photoUrl": "https://lh3.googleusercontent.com/a-/AAuE7mAkO8LOy2izH_0OFqjCeiE_OUsTVv9XuaZ6VdCk=s64",
      "userId": "02226678451862578764"
     },
     "user_tz": -330
    },
    "id": "Gw6uH5DxgI_r",
    "outputId": "c50e75fb-2b2a-43c3-942e-414a0137c54b"
   },
   "outputs": [
    {
     "name": "stdout",
     "output_type": "stream",
     "text": [
      "(409, 224, 224)\n"
     ]
    },
    {
     "data": {
      "text/plain": [
       "409"
      ]
     },
     "execution_count": 10,
     "metadata": {
      "tags": []
     },
     "output_type": "execute_result"
    }
   ],
   "source": [
    "#### Add your code here ####\n",
    "print(masks.shape)\n",
    "len(masks)"
   ]
  },
  {
   "cell_type": "markdown",
   "metadata": {
    "colab_type": "text",
    "id": "R4wgkWq1bk5F"
   },
   "source": [
    "### Print a sample image and image array"
   ]
  },
  {
   "cell_type": "code",
   "execution_count": 11,
   "metadata": {
    "colab": {
     "base_uri": "https://localhost:8080/",
     "height": 1000
    },
    "colab_type": "code",
    "executionInfo": {
     "elapsed": 11019,
     "status": "ok",
     "timestamp": 1576988075475,
     "user": {
      "displayName": "Venkatesan M",
      "photoUrl": "https://lh3.googleusercontent.com/a-/AAuE7mAkO8LOy2izH_0OFqjCeiE_OUsTVv9XuaZ6VdCk=s64",
      "userId": "02226678451862578764"
     },
     "user_tz": -330
    },
    "id": "qfRZjQufj0N9",
    "outputId": "8cc5b7a2-d5fa-4d1a-c530-88216afd7e7a"
   },
   "outputs": [
    {
     "name": "stderr",
     "output_type": "stream",
     "text": [
      "Clipping input data to the valid range for imshow with RGB data ([0..1] for floats or [0..255] for integers).\n"
     ]
    },
    {
     "name": "stdout",
     "output_type": "stream",
     "text": [
      "[[[-0.98431373 -0.98431373 -0.98431373]\n",
      "  [-0.98431373 -0.98431373 -0.98431373]\n",
      "  [-0.98431373 -0.98431373 -0.98431373]\n",
      "  ...\n",
      "  [-1.         -1.         -1.        ]\n",
      "  [-1.         -1.         -1.        ]\n",
      "  [-1.         -1.         -1.        ]]\n",
      "\n",
      " [[-0.98431373 -0.98431373 -0.98431373]\n",
      "  [-0.98431373 -0.98431373 -0.98431373]\n",
      "  [-0.98431373 -0.98431373 -0.98431373]\n",
      "  ...\n",
      "  [-1.         -1.         -1.        ]\n",
      "  [-1.         -1.         -1.        ]\n",
      "  [-1.         -1.         -1.        ]]\n",
      "\n",
      " [[-0.98431373 -0.98431373 -0.98431373]\n",
      "  [-0.98431373 -0.98431373 -0.98431373]\n",
      "  [-0.98431373 -0.98431373 -0.98431373]\n",
      "  ...\n",
      "  [-1.         -1.         -1.        ]\n",
      "  [-1.         -1.         -1.        ]\n",
      "  [-1.         -1.         -1.        ]]\n",
      "\n",
      " ...\n",
      "\n",
      " [[-1.         -1.         -1.        ]\n",
      "  [-1.         -1.         -1.        ]\n",
      "  [-1.         -1.         -1.        ]\n",
      "  ...\n",
      "  [-0.96862745 -0.96862745 -0.96862745]\n",
      "  [-0.96078432 -0.96078432 -0.96078432]\n",
      "  [-0.96078432 -0.96078432 -0.96078432]]\n",
      "\n",
      " [[-1.         -1.         -1.        ]\n",
      "  [-1.         -1.         -1.        ]\n",
      "  [-1.         -1.         -1.        ]\n",
      "  ...\n",
      "  [-0.96862745 -0.96862745 -0.96862745]\n",
      "  [-0.96078432 -0.96078432 -0.96078432]\n",
      "  [-0.95294118 -0.95294118 -0.95294118]]\n",
      "\n",
      " [[-1.         -1.         -1.        ]\n",
      "  [-1.         -1.         -1.        ]\n",
      "  [-1.         -1.         -1.        ]\n",
      "  ...\n",
      "  [-0.97647059 -0.97647059 -0.97647059]\n",
      "  [-0.96862745 -0.96862745 -0.96862745]\n",
      "  [-0.96078432 -0.96078432 -0.96078432]]]\n"
     ]
    },
    {
     "data": {
      "text/plain": [
       "<matplotlib.image.AxesImage at 0x7f862849fe48>"
      ]
     },
     "execution_count": 11,
     "metadata": {
      "tags": []
     },
     "output_type": "execute_result"
    },
    {
     "data": {
      "image/png": "[encoded data removed]",
      "text/plain": [
       "<Figure size 432x288 with 1 Axes>"
      ]
     },
     "metadata": {
      "tags": []
     },
     "output_type": "display_data"
    }
   ],
   "source": [
    "from matplotlib import pyplot\n",
    "n = 10\n",
    "print(X_train[n])\n",
    "pyplot.imshow(X_train[n])"
   ]
  },
  {
   "cell_type": "code",
   "execution_count": 12,
   "metadata": {
    "colab": {
     "base_uri": "https://localhost:8080/",
     "height": 287
    },
    "colab_type": "code",
    "executionInfo": {
     "elapsed": 10972,
     "status": "ok",
     "timestamp": 1576988075479,
     "user": {
      "displayName": "Venkatesan M",
      "photoUrl": "https://lh3.googleusercontent.com/a-/AAuE7mAkO8LOy2izH_0OFqjCeiE_OUsTVv9XuaZ6VdCk=s64",
      "userId": "02226678451862578764"
     },
     "user_tz": -330
    },
    "id": "983gGKcwlSe8",
    "outputId": "bf331f65-a8d6-47b0-ab3d-9a9f35fd8f84"
   },
   "outputs": [
    {
     "data": {
      "text/plain": [
       "<matplotlib.image.AxesImage at 0x7f8627fea208>"
      ]
     },
     "execution_count": 12,
     "metadata": {
      "tags": []
     },
     "output_type": "execute_result"
    },
    {
     "data": {
      "image/png": "[encoded data removed]",
      "text/plain": [
       "<Figure size 432x288 with 1 Axes>"
      ]
     },
     "metadata": {
      "tags": []
     },
     "output_type": "display_data"
    }
   ],
   "source": [
    "pyplot.imshow(masks[n])"
   ]
  },
  {
   "cell_type": "markdown",
   "metadata": {
    "colab_type": "text",
    "id": "Z0Qa1UOue9TE"
   },
   "source": [
    "## Create the model (10 marks)\n",
    "- Add MobileNet as model with below parameter values\n",
    "  - input_shape: IMAGE_HEIGHT, IMAGE_WIDTH, 3\n",
    "  - include_top: False\n",
    "  - alpha: 1.0\n",
    "  - weights: \"imagenet\"\n",
    "- Add UNET architecture layers\n",
    "  - This is the trickiest part of the project, you need to research and implement it correctly"
   ]
  },
  {
   "cell_type": "code",
   "execution_count": 13,
   "metadata": {
    "colab": {
     "base_uri": "https://localhost:8080/",
     "height": 601
    },
    "colab_type": "code",
    "executionInfo": {
     "elapsed": 17291,
     "status": "ok",
     "timestamp": 1576988081838,
     "user": {
      "displayName": "Venkatesan M",
      "photoUrl": "https://lh3.googleusercontent.com/a-/AAuE7mAkO8LOy2izH_0OFqjCeiE_OUsTVv9XuaZ6VdCk=s64",
      "userId": "02226678451862578764"
     },
     "user_tz": -330
    },
    "id": "BTVYOvANrUVx",
    "outputId": "355ef406-4b42-42a9-e432-5857692df58c"
   },
   "outputs": [
    {
     "name": "stdout",
     "output_type": "stream",
     "text": [
      "Collecting git+https://github.com/qubvel/segmentation_models\n",
      "  Cloning https://github.com/qubvel/segmentation_models to /tmp/pip-req-build-lmyqo9rp\n",
      "  Running command git clone -q https://github.com/qubvel/segmentation_models /tmp/pip-req-build-lmyqo9rp\n",
      "  Running command git submodule update --init --recursive -q\n",
      "Requirement already satisfied (use --upgrade to upgrade): segmentation-models==1.0.0 from git+https://github.com/qubvel/segmentation_models in /usr/local/lib/python3.6/dist-packages\n",
      "Requirement already satisfied: keras_applications<=1.0.8,>=1.0.7 in /usr/local/lib/python3.6/dist-packages (from segmentation-models==1.0.0) (1.0.8)\n",
      "Requirement already satisfied: image-classifiers==1.0.0 in /usr/local/lib/python3.6/dist-packages (from segmentation-models==1.0.0) (1.0.0)\n",
      "Requirement already satisfied: efficientnet==1.0.0 in /usr/local/lib/python3.6/dist-packages (from segmentation-models==1.0.0) (1.0.0)\n",
      "Requirement already satisfied: h5py in /usr/local/lib/python3.6/dist-packages (from keras_applications<=1.0.8,>=1.0.7->segmentation-models==1.0.0) (2.8.0)\n",
      "Requirement already satisfied: numpy>=1.9.1 in /usr/local/lib/python3.6/dist-packages (from keras_applications<=1.0.8,>=1.0.7->segmentation-models==1.0.0) (1.17.4)\n",
      "Requirement already satisfied: scikit-image in /usr/local/lib/python3.6/dist-packages (from efficientnet==1.0.0->segmentation-models==1.0.0) (0.15.0)\n",
      "Requirement already satisfied: six in /usr/local/lib/python3.6/dist-packages (from h5py->keras_applications<=1.0.8,>=1.0.7->segmentation-models==1.0.0) (1.12.0)\n",
      "Requirement already satisfied: pillow>=4.3.0 in /usr/local/lib/python3.6/dist-packages (from scikit-image->efficientnet==1.0.0->segmentation-models==1.0.0) (4.3.0)\n",
      "Requirement already satisfied: imageio>=2.0.1 in /usr/local/lib/python3.6/dist-packages (from scikit-image->efficientnet==1.0.0->segmentation-models==1.0.0) (2.4.1)\n",
      "Requirement already satisfied: PyWavelets>=0.4.0 in /usr/local/lib/python3.6/dist-packages (from scikit-image->efficientnet==1.0.0->segmentation-models==1.0.0) (1.1.1)\n",
      "Requirement already satisfied: networkx>=2.0 in /usr/local/lib/python3.6/dist-packages (from scikit-image->efficientnet==1.0.0->segmentation-models==1.0.0) (2.4)\n",
      "Requirement already satisfied: matplotlib!=3.0.0,>=2.0.0 in /usr/local/lib/python3.6/dist-packages (from scikit-image->efficientnet==1.0.0->segmentation-models==1.0.0) (3.1.2)\n",
      "Requirement already satisfied: scipy>=0.17.0 in /usr/local/lib/python3.6/dist-packages (from scikit-image->efficientnet==1.0.0->segmentation-models==1.0.0) (1.3.3)\n",
      "Requirement already satisfied: olefile in /usr/local/lib/python3.6/dist-packages (from pillow>=4.3.0->scikit-image->efficientnet==1.0.0->segmentation-models==1.0.0) (0.46)\n",
      "Requirement already satisfied: decorator>=4.3.0 in /usr/local/lib/python3.6/dist-packages (from networkx>=2.0->scikit-image->efficientnet==1.0.0->segmentation-models==1.0.0) (4.4.1)\n",
      "Requirement already satisfied: cycler>=0.10 in /usr/local/lib/python3.6/dist-packages (from matplotlib!=3.0.0,>=2.0.0->scikit-image->efficientnet==1.0.0->segmentation-models==1.0.0) (0.10.0)\n",
      "Requirement already satisfied: python-dateutil>=2.1 in /usr/local/lib/python3.6/dist-packages (from matplotlib!=3.0.0,>=2.0.0->scikit-image->efficientnet==1.0.0->segmentation-models==1.0.0) (2.6.1)\n",
      "Requirement already satisfied: kiwisolver>=1.0.1 in /usr/local/lib/python3.6/dist-packages (from matplotlib!=3.0.0,>=2.0.0->scikit-image->efficientnet==1.0.0->segmentation-models==1.0.0) (1.1.0)\n",
      "Requirement already satisfied: pyparsing!=2.0.4,!=2.1.2,!=2.1.6,>=2.0.1 in /usr/local/lib/python3.6/dist-packages (from matplotlib!=3.0.0,>=2.0.0->scikit-image->efficientnet==1.0.0->segmentation-models==1.0.0) (2.4.5)\n",
      "Requirement already satisfied: setuptools in /usr/local/lib/python3.6/dist-packages (from kiwisolver>=1.0.1->matplotlib!=3.0.0,>=2.0.0->scikit-image->efficientnet==1.0.0->segmentation-models==1.0.0) (42.0.2)\n",
      "Building wheels for collected packages: segmentation-models\n",
      "  Building wheel for segmentation-models (setup.py) ... \u001b[?25l\u001b[?25hdone\n",
      "  Created wheel for segmentation-models: filename=segmentation_models-1.0.0-cp36-none-any.whl size=33585 sha256=a42b940db0a3469fedddeb0ca156bc40e78242220819219e0fac3b67da3c920a\n",
      "  Stored in directory: /tmp/pip-ephem-wheel-cache-5877nt7p/wheels/49/cf/46/cbb4bb64518c402aea99df9d466f1081450597e653256bbcf4\n",
      "Successfully built segmentation-models\n",
      "Segmentation Models: using `keras` framework.\n"
     ]
    }
   ],
   "source": [
    "#Install segmentation models\n",
    "!pip install git+https://github.com/qubvel/segmentation_models\n",
    "from segmentation_models import Unet, get_preprocessing\n",
    "from sklearn.model_selection import train_test_split\n",
    "\n",
    "ALPHA = 1.0"
   ]
  },
  {
   "cell_type": "code",
   "execution_count": 0,
   "metadata": {
    "colab": {},
    "colab_type": "code",
    "id": "jH2Fm_cR8p2g"
   },
   "outputs": [],
   "source": [
    "def create_model(trainable=True):\n",
    "    model1 = MobileNet(input_shape=(IMAGE_HEIGHT, IMAGE_WIDTH, 3), include_top=False, alpha=ALPHA, weights=\"imagenet\") #### Add your code here ####\n",
    "    for layer in model1.layers:\n",
    "        layer.trainable = trainable\n",
    "\n",
    "    # Add all the UNET layers here\n",
    "    #### Add your code here ####\n",
    "    #inp = Input(shape=(IMAGE_HEIGHT, IMAGE_WIDTH, 3))\n",
    "    \n",
    "    block1 = model1.get_layer(\"conv_pw_5_relu\").output\n",
    "    block2 = model1.get_layer(\"conv_pw_11_relu\").output\n",
    "    block3 = model1.get_layer(\"conv_pw_13_relu\").output\n",
    "    #x = model1.layers[-1].output\n",
    "    \n",
    "    model2 = Unet(backbone_name='resnet34', encoder_weights='imagenet')\n",
    "    inp = Input(shape=(IMAGE_HEIGHT, IMAGE_WIDTH, 3))\n",
    "    l1 = Conv2D(3, (1, 1))(inp) # map N channels data to 3 channels\n",
    "    x = model2(l1)\n",
    "    x = Concatenate()([UpSampling2D()(block3), block2])\n",
    "    x = Concatenate()([UpSampling2D()(x), block1])\n",
    "\n",
    "    x = Conv2D(1, kernel_size=1, activation=\"sigmoid\", name='myconv1')(x)\n",
    "    x = Reshape((HEIGHT_CELLS, WIDTH_CELLS))(x)\n",
    "    #x = Reshape((IMAGE_HEIGHT, IMAGE_WIDTH))(x)\n",
    "    \n",
    "    model = Model(model1.input, x)\n",
    "    return model #### Add your code here ####"
   ]
  },
  {
   "cell_type": "markdown",
   "metadata": {
    "colab_type": "text",
    "id": "_snZ9o0ZBAiv"
   },
   "source": [
    "### Call the create_model function"
   ]
  },
  {
   "cell_type": "code",
   "execution_count": 15,
   "metadata": {
    "colab": {
     "base_uri": "https://localhost:8080/",
     "height": 1000
    },
    "colab_type": "code",
    "executionInfo": {
     "elapsed": 27795,
     "status": "ok",
     "timestamp": 1576988092588,
     "user": {
      "displayName": "Venkatesan M",
      "photoUrl": "https://lh3.googleusercontent.com/a-/AAuE7mAkO8LOy2izH_0OFqjCeiE_OUsTVv9XuaZ6VdCk=s64",
      "userId": "02226678451862578764"
     },
     "user_tz": -330
    },
    "id": "9TfSSP51uPoO",
    "outputId": "58b728aa-91e5-4054-b0a4-d82f2f0c7f59"
   },
   "outputs": [
    {
     "name": "stdout",
     "output_type": "stream",
     "text": [
      "WARNING:tensorflow:From /usr/local/lib/python3.6/dist-packages/keras/backend/tensorflow_backend.py:66: The name tf.get_default_graph is deprecated. Please use tf.compat.v1.get_default_graph instead.\n",
      "\n",
      "WARNING:tensorflow:From /usr/local/lib/python3.6/dist-packages/keras/backend/tensorflow_backend.py:541: The name tf.placeholder is deprecated. Please use tf.compat.v1.placeholder instead.\n",
      "\n",
      "WARNING:tensorflow:From /usr/local/lib/python3.6/dist-packages/keras/backend/tensorflow_backend.py:4432: The name tf.random_uniform is deprecated. Please use tf.random.uniform instead.\n",
      "\n",
      "WARNING:tensorflow:From /usr/local/lib/python3.6/dist-packages/keras/backend/tensorflow_backend.py:190: The name tf.get_default_session is deprecated. Please use tf.compat.v1.get_default_session instead.\n",
      "\n",
      "WARNING:tensorflow:From /usr/local/lib/python3.6/dist-packages/keras/backend/tensorflow_backend.py:197: The name tf.ConfigProto is deprecated. Please use tf.compat.v1.ConfigProto instead.\n",
      "\n",
      "WARNING:tensorflow:From /usr/local/lib/python3.6/dist-packages/keras/backend/tensorflow_backend.py:203: The name tf.Session is deprecated. Please use tf.compat.v1.Session instead.\n",
      "\n",
      "WARNING:tensorflow:From /usr/local/lib/python3.6/dist-packages/keras/backend/tensorflow_backend.py:207: The name tf.global_variables is deprecated. Please use tf.compat.v1.global_variables instead.\n",
      "\n",
      "WARNING:tensorflow:From /usr/local/lib/python3.6/dist-packages/keras/backend/tensorflow_backend.py:216: The name tf.is_variable_initialized is deprecated. Please use tf.compat.v1.is_variable_initialized instead.\n",
      "\n",
      "WARNING:tensorflow:From /usr/local/lib/python3.6/dist-packages/keras/backend/tensorflow_backend.py:223: The name tf.variables_initializer is deprecated. Please use tf.compat.v1.variables_initializer instead.\n",
      "\n",
      "WARNING:tensorflow:From /usr/local/lib/python3.6/dist-packages/keras/backend/tensorflow_backend.py:2041: The name tf.nn.fused_batch_norm is deprecated. Please use tf.compat.v1.nn.fused_batch_norm instead.\n",
      "\n",
      "WARNING:tensorflow:From /usr/local/lib/python3.6/dist-packages/keras/backend/tensorflow_backend.py:148: The name tf.placeholder_with_default is deprecated. Please use tf.compat.v1.placeholder_with_default instead.\n",
      "\n",
      "WARNING:tensorflow:From /usr/local/lib/python3.6/dist-packages/keras/backend/tensorflow_backend.py:4267: The name tf.nn.max_pool is deprecated. Please use tf.nn.max_pool2d instead.\n",
      "\n",
      "WARNING:tensorflow:From /usr/local/lib/python3.6/dist-packages/keras/backend/tensorflow_backend.py:2239: The name tf.image.resize_nearest_neighbor is deprecated. Please use tf.compat.v1.image.resize_nearest_neighbor instead.\n",
      "\n",
      "Model: \"model_3\"\n",
      "__________________________________________________________________________________________________\n",
      "Layer (type)                    Output Shape         Param #     Connected to                     \n",
      "==================================================================================================\n",
      "input_1 (InputLayer)            (None, 224, 224, 3)  0                                            \n",
      "__________________________________________________________________________________________________\n",
      "conv1_pad (ZeroPadding2D)       (None, 225, 225, 3)  0           input_1[0][0]                    \n",
      "__________________________________________________________________________________________________\n",
      "conv1 (Conv2D)                  (None, 112, 112, 32) 864         conv1_pad[0][0]                  \n",
      "__________________________________________________________________________________________________\n",
      "conv1_bn (BatchNormalization)   (None, 112, 112, 32) 128         conv1[0][0]                      \n",
      "__________________________________________________________________________________________________\n",
      "conv1_relu (ReLU)               (None, 112, 112, 32) 0           conv1_bn[0][0]                   \n",
      "__________________________________________________________________________________________________\n",
      "conv_dw_1 (DepthwiseConv2D)     (None, 112, 112, 32) 288         conv1_relu[0][0]                 \n",
      "__________________________________________________________________________________________________\n",
      "conv_dw_1_bn (BatchNormalizatio (None, 112, 112, 32) 128         conv_dw_1[0][0]                  \n",
      "__________________________________________________________________________________________________\n",
      "conv_dw_1_relu (ReLU)           (None, 112, 112, 32) 0           conv_dw_1_bn[0][0]               \n",
      "__________________________________________________________________________________________________\n",
      "conv_pw_1 (Conv2D)              (None, 112, 112, 64) 2048        conv_dw_1_relu[0][0]             \n",
      "__________________________________________________________________________________________________\n",
      "conv_pw_1_bn (BatchNormalizatio (None, 112, 112, 64) 256         conv_pw_1[0][0]                  \n",
      "__________________________________________________________________________________________________\n",
      "conv_pw_1_relu (ReLU)           (None, 112, 112, 64) 0           conv_pw_1_bn[0][0]               \n",
      "__________________________________________________________________________________________________\n",
      "conv_pad_2 (ZeroPadding2D)      (None, 113, 113, 64) 0           conv_pw_1_relu[0][0]             \n",
      "__________________________________________________________________________________________________\n",
      "conv_dw_2 (DepthwiseConv2D)     (None, 56, 56, 64)   576         conv_pad_2[0][0]                 \n",
      "__________________________________________________________________________________________________\n",
      "conv_dw_2_bn (BatchNormalizatio (None, 56, 56, 64)   256         conv_dw_2[0][0]                  \n",
      "__________________________________________________________________________________________________\n",
      "conv_dw_2_relu (ReLU)           (None, 56, 56, 64)   0           conv_dw_2_bn[0][0]               \n",
      "__________________________________________________________________________________________________\n",
      "conv_pw_2 (Conv2D)              (None, 56, 56, 128)  8192        conv_dw_2_relu[0][0]             \n",
      "__________________________________________________________________________________________________\n",
      "conv_pw_2_bn (BatchNormalizatio (None, 56, 56, 128)  512         conv_pw_2[0][0]                  \n",
      "__________________________________________________________________________________________________\n",
      "conv_pw_2_relu (ReLU)           (None, 56, 56, 128)  0           conv_pw_2_bn[0][0]               \n",
      "__________________________________________________________________________________________________\n",
      "conv_dw_3 (DepthwiseConv2D)     (None, 56, 56, 128)  1152        conv_pw_2_relu[0][0]             \n",
      "__________________________________________________________________________________________________\n",
      "conv_dw_3_bn (BatchNormalizatio (None, 56, 56, 128)  512         conv_dw_3[0][0]                  \n",
      "__________________________________________________________________________________________________\n",
      "conv_dw_3_relu (ReLU)           (None, 56, 56, 128)  0           conv_dw_3_bn[0][0]               \n",
      "__________________________________________________________________________________________________\n",
      "conv_pw_3 (Conv2D)              (None, 56, 56, 128)  16384       conv_dw_3_relu[0][0]             \n",
      "__________________________________________________________________________________________________\n",
      "conv_pw_3_bn (BatchNormalizatio (None, 56, 56, 128)  512         conv_pw_3[0][0]                  \n",
      "__________________________________________________________________________________________________\n",
      "conv_pw_3_relu (ReLU)           (None, 56, 56, 128)  0           conv_pw_3_bn[0][0]               \n",
      "__________________________________________________________________________________________________\n",
      "conv_pad_4 (ZeroPadding2D)      (None, 57, 57, 128)  0           conv_pw_3_relu[0][0]             \n",
      "__________________________________________________________________________________________________\n",
      "conv_dw_4 (DepthwiseConv2D)     (None, 28, 28, 128)  1152        conv_pad_4[0][0]                 \n",
      "__________________________________________________________________________________________________\n",
      "conv_dw_4_bn (BatchNormalizatio (None, 28, 28, 128)  512         conv_dw_4[0][0]                  \n",
      "__________________________________________________________________________________________________\n",
      "conv_dw_4_relu (ReLU)           (None, 28, 28, 128)  0           conv_dw_4_bn[0][0]               \n",
      "__________________________________________________________________________________________________\n",
      "conv_pw_4 (Conv2D)              (None, 28, 28, 256)  32768       conv_dw_4_relu[0][0]             \n",
      "__________________________________________________________________________________________________\n",
      "conv_pw_4_bn (BatchNormalizatio (None, 28, 28, 256)  1024        conv_pw_4[0][0]                  \n",
      "__________________________________________________________________________________________________\n",
      "conv_pw_4_relu (ReLU)           (None, 28, 28, 256)  0           conv_pw_4_bn[0][0]               \n",
      "__________________________________________________________________________________________________\n",
      "conv_dw_5 (DepthwiseConv2D)     (None, 28, 28, 256)  2304        conv_pw_4_relu[0][0]             \n",
      "__________________________________________________________________________________________________\n",
      "conv_dw_5_bn (BatchNormalizatio (None, 28, 28, 256)  1024        conv_dw_5[0][0]                  \n",
      "__________________________________________________________________________________________________\n",
      "conv_dw_5_relu (ReLU)           (None, 28, 28, 256)  0           conv_dw_5_bn[0][0]               \n",
      "__________________________________________________________________________________________________\n",
      "conv_pw_5 (Conv2D)              (None, 28, 28, 256)  65536       conv_dw_5_relu[0][0]             \n",
      "__________________________________________________________________________________________________\n",
      "conv_pw_5_bn (BatchNormalizatio (None, 28, 28, 256)  1024        conv_pw_5[0][0]                  \n",
      "__________________________________________________________________________________________________\n",
      "conv_pw_5_relu (ReLU)           (None, 28, 28, 256)  0           conv_pw_5_bn[0][0]               \n",
      "__________________________________________________________________________________________________\n",
      "conv_pad_6 (ZeroPadding2D)      (None, 29, 29, 256)  0           conv_pw_5_relu[0][0]             \n",
      "__________________________________________________________________________________________________\n",
      "conv_dw_6 (DepthwiseConv2D)     (None, 14, 14, 256)  2304        conv_pad_6[0][0]                 \n",
      "__________________________________________________________________________________________________\n",
      "conv_dw_6_bn (BatchNormalizatio (None, 14, 14, 256)  1024        conv_dw_6[0][0]                  \n",
      "__________________________________________________________________________________________________\n",
      "conv_dw_6_relu (ReLU)           (None, 14, 14, 256)  0           conv_dw_6_bn[0][0]               \n",
      "__________________________________________________________________________________________________\n",
      "conv_pw_6 (Conv2D)              (None, 14, 14, 512)  131072      conv_dw_6_relu[0][0]             \n",
      "__________________________________________________________________________________________________\n",
      "conv_pw_6_bn (BatchNormalizatio (None, 14, 14, 512)  2048        conv_pw_6[0][0]                  \n",
      "__________________________________________________________________________________________________\n",
      "conv_pw_6_relu (ReLU)           (None, 14, 14, 512)  0           conv_pw_6_bn[0][0]               \n",
      "__________________________________________________________________________________________________\n",
      "conv_dw_7 (DepthwiseConv2D)     (None, 14, 14, 512)  4608        conv_pw_6_relu[0][0]             \n",
      "__________________________________________________________________________________________________\n",
      "conv_dw_7_bn (BatchNormalizatio (None, 14, 14, 512)  2048        conv_dw_7[0][0]                  \n",
      "__________________________________________________________________________________________________\n",
      "conv_dw_7_relu (ReLU)           (None, 14, 14, 512)  0           conv_dw_7_bn[0][0]               \n",
      "__________________________________________________________________________________________________\n",
      "conv_pw_7 (Conv2D)              (None, 14, 14, 512)  262144      conv_dw_7_relu[0][0]             \n",
      "__________________________________________________________________________________________________\n",
      "conv_pw_7_bn (BatchNormalizatio (None, 14, 14, 512)  2048        conv_pw_7[0][0]                  \n",
      "__________________________________________________________________________________________________\n",
      "conv_pw_7_relu (ReLU)           (None, 14, 14, 512)  0           conv_pw_7_bn[0][0]               \n",
      "__________________________________________________________________________________________________\n",
      "conv_dw_8 (DepthwiseConv2D)     (None, 14, 14, 512)  4608        conv_pw_7_relu[0][0]             \n",
      "__________________________________________________________________________________________________\n",
      "conv_dw_8_bn (BatchNormalizatio (None, 14, 14, 512)  2048        conv_dw_8[0][0]                  \n",
      "__________________________________________________________________________________________________\n",
      "conv_dw_8_relu (ReLU)           (None, 14, 14, 512)  0           conv_dw_8_bn[0][0]               \n",
      "__________________________________________________________________________________________________\n",
      "conv_pw_8 (Conv2D)              (None, 14, 14, 512)  262144      conv_dw_8_relu[0][0]             \n",
      "__________________________________________________________________________________________________\n",
      "conv_pw_8_bn (BatchNormalizatio (None, 14, 14, 512)  2048        conv_pw_8[0][0]                  \n",
      "__________________________________________________________________________________________________\n",
      "conv_pw_8_relu (ReLU)           (None, 14, 14, 512)  0           conv_pw_8_bn[0][0]               \n",
      "__________________________________________________________________________________________________\n",
      "conv_dw_9 (DepthwiseConv2D)     (None, 14, 14, 512)  4608        conv_pw_8_relu[0][0]             \n",
      "__________________________________________________________________________________________________\n",
      "conv_dw_9_bn (BatchNormalizatio (None, 14, 14, 512)  2048        conv_dw_9[0][0]                  \n",
      "__________________________________________________________________________________________________\n",
      "conv_dw_9_relu (ReLU)           (None, 14, 14, 512)  0           conv_dw_9_bn[0][0]               \n",
      "__________________________________________________________________________________________________\n",
      "conv_pw_9 (Conv2D)              (None, 14, 14, 512)  262144      conv_dw_9_relu[0][0]             \n",
      "__________________________________________________________________________________________________\n",
      "conv_pw_9_bn (BatchNormalizatio (None, 14, 14, 512)  2048        conv_pw_9[0][0]                  \n",
      "__________________________________________________________________________________________________\n",
      "conv_pw_9_relu (ReLU)           (None, 14, 14, 512)  0           conv_pw_9_bn[0][0]               \n",
      "__________________________________________________________________________________________________\n",
      "conv_dw_10 (DepthwiseConv2D)    (None, 14, 14, 512)  4608        conv_pw_9_relu[0][0]             \n",
      "__________________________________________________________________________________________________\n",
      "conv_dw_10_bn (BatchNormalizati (None, 14, 14, 512)  2048        conv_dw_10[0][0]                 \n",
      "__________________________________________________________________________________________________\n",
      "conv_dw_10_relu (ReLU)          (None, 14, 14, 512)  0           conv_dw_10_bn[0][0]              \n",
      "__________________________________________________________________________________________________\n",
      "conv_pw_10 (Conv2D)             (None, 14, 14, 512)  262144      conv_dw_10_relu[0][0]            \n",
      "__________________________________________________________________________________________________\n",
      "conv_pw_10_bn (BatchNormalizati (None, 14, 14, 512)  2048        conv_pw_10[0][0]                 \n",
      "__________________________________________________________________________________________________\n",
      "conv_pw_10_relu (ReLU)          (None, 14, 14, 512)  0           conv_pw_10_bn[0][0]              \n",
      "__________________________________________________________________________________________________\n",
      "conv_dw_11 (DepthwiseConv2D)    (None, 14, 14, 512)  4608        conv_pw_10_relu[0][0]            \n",
      "__________________________________________________________________________________________________\n",
      "conv_dw_11_bn (BatchNormalizati (None, 14, 14, 512)  2048        conv_dw_11[0][0]                 \n",
      "__________________________________________________________________________________________________\n",
      "conv_dw_11_relu (ReLU)          (None, 14, 14, 512)  0           conv_dw_11_bn[0][0]              \n",
      "__________________________________________________________________________________________________\n",
      "conv_pw_11 (Conv2D)             (None, 14, 14, 512)  262144      conv_dw_11_relu[0][0]            \n",
      "__________________________________________________________________________________________________\n",
      "conv_pw_11_bn (BatchNormalizati (None, 14, 14, 512)  2048        conv_pw_11[0][0]                 \n",
      "__________________________________________________________________________________________________\n",
      "conv_pw_11_relu (ReLU)          (None, 14, 14, 512)  0           conv_pw_11_bn[0][0]              \n",
      "__________________________________________________________________________________________________\n",
      "conv_pad_12 (ZeroPadding2D)     (None, 15, 15, 512)  0           conv_pw_11_relu[0][0]            \n",
      "__________________________________________________________________________________________________\n",
      "conv_dw_12 (DepthwiseConv2D)    (None, 7, 7, 512)    4608        conv_pad_12[0][0]                \n",
      "__________________________________________________________________________________________________\n",
      "conv_dw_12_bn (BatchNormalizati (None, 7, 7, 512)    2048        conv_dw_12[0][0]                 \n",
      "__________________________________________________________________________________________________\n",
      "conv_dw_12_relu (ReLU)          (None, 7, 7, 512)    0           conv_dw_12_bn[0][0]              \n",
      "__________________________________________________________________________________________________\n",
      "conv_pw_12 (Conv2D)             (None, 7, 7, 1024)   524288      conv_dw_12_relu[0][0]            \n",
      "__________________________________________________________________________________________________\n",
      "conv_pw_12_bn (BatchNormalizati (None, 7, 7, 1024)   4096        conv_pw_12[0][0]                 \n",
      "__________________________________________________________________________________________________\n",
      "conv_pw_12_relu (ReLU)          (None, 7, 7, 1024)   0           conv_pw_12_bn[0][0]              \n",
      "__________________________________________________________________________________________________\n",
      "conv_dw_13 (DepthwiseConv2D)    (None, 7, 7, 1024)   9216        conv_pw_12_relu[0][0]            \n",
      "__________________________________________________________________________________________________\n",
      "conv_dw_13_bn (BatchNormalizati (None, 7, 7, 1024)   4096        conv_dw_13[0][0]                 \n",
      "__________________________________________________________________________________________________\n",
      "conv_dw_13_relu (ReLU)          (None, 7, 7, 1024)   0           conv_dw_13_bn[0][0]              \n",
      "__________________________________________________________________________________________________\n",
      "conv_pw_13 (Conv2D)             (None, 7, 7, 1024)   1048576     conv_dw_13_relu[0][0]            \n",
      "__________________________________________________________________________________________________\n",
      "conv_pw_13_bn (BatchNormalizati (None, 7, 7, 1024)   4096        conv_pw_13[0][0]                 \n",
      "__________________________________________________________________________________________________\n",
      "conv_pw_13_relu (ReLU)          (None, 7, 7, 1024)   0           conv_pw_13_bn[0][0]              \n",
      "__________________________________________________________________________________________________\n",
      "up_sampling2d_1 (UpSampling2D)  (None, 14, 14, 1024) 0           conv_pw_13_relu[0][0]            \n",
      "__________________________________________________________________________________________________\n",
      "concatenate_1 (Concatenate)     (None, 14, 14, 1536) 0           up_sampling2d_1[0][0]            \n",
      "                                                                 conv_pw_11_relu[0][0]            \n",
      "__________________________________________________________________________________________________\n",
      "up_sampling2d_2 (UpSampling2D)  (None, 28, 28, 1536) 0           concatenate_1[0][0]              \n",
      "__________________________________________________________________________________________________\n",
      "concatenate_2 (Concatenate)     (None, 28, 28, 1792) 0           up_sampling2d_2[0][0]            \n",
      "                                                                 conv_pw_5_relu[0][0]             \n",
      "__________________________________________________________________________________________________\n",
      "myconv1 (Conv2D)                (None, 28, 28, 1)    1793        concatenate_2[0][0]              \n",
      "__________________________________________________________________________________________________\n",
      "reshape_1 (Reshape)             (None, 28, 28)       0           myconv1[0][0]                    \n",
      "==================================================================================================\n",
      "Total params: 3,230,657\n",
      "Trainable params: 1,793\n",
      "Non-trainable params: 3,228,864\n",
      "__________________________________________________________________________________________________\n"
     ]
    }
   ],
   "source": [
    "# Give trainable=False as argument, if you want to freeze lower layers for fast training (but low accuracy)\n",
    "model = create_model(False)\n",
    "\n",
    "# Print summary\n",
    "model.summary()"
   ]
  },
  {
   "cell_type": "markdown",
   "metadata": {
    "colab_type": "text",
    "id": "2spcE4TvfEZw"
   },
   "source": [
    "### Define dice coefficient function (5 marks)\n",
    "- Create a function to calculate dice coefficient\n"
   ]
  },
  {
   "cell_type": "code",
   "execution_count": 0,
   "metadata": {
    "colab": {},
    "colab_type": "code",
    "id": "8H8aViXZuWz1"
   },
   "outputs": [],
   "source": [
    "def dice_coefficient(y_true, y_pred):\n",
    "    numerator = 2 * tf.reduce_sum(y_true * y_pred)\n",
    "    denominator = tf.reduce_sum(y_true + y_pred)\n",
    "\n",
    "    return numerator / (denominator + tf.keras.backend.epsilon())"
   ]
  },
  {
   "cell_type": "markdown",
   "metadata": {
    "colab_type": "text",
    "id": "Nkp5SDM1fIu2"
   },
   "source": [
    "### Define loss"
   ]
  },
  {
   "cell_type": "code",
   "execution_count": 0,
   "metadata": {
    "colab": {},
    "colab_type": "code",
    "id": "FEOVfs19KVLv"
   },
   "outputs": [],
   "source": [
    "from tensorflow.keras.losses import binary_crossentropy\n",
    "from tensorflow.keras.backend import log, epsilon\n",
    "def loss(y_true, y_pred):\n",
    "    return binary_crossentropy(y_true, y_pred) - log(dice_coefficient(y_true, y_pred) + epsilon())"
   ]
  },
  {
   "cell_type": "code",
   "execution_count": 0,
   "metadata": {
    "colab": {},
    "colab_type": "code",
    "id": "jj7j81M5uxGo"
   },
   "outputs": [],
   "source": [
    "masks2 = np.zeros((int(data.shape[0]), HEIGHT_CELLS, WIDTH_CELLS))\n",
    "for index in range(data.shape[0]):\n",
    "  masks2[index] = cv2.resize(masks[index], dsize=(HEIGHT_CELLS, WIDTH_CELLS), interpolation=cv2.INTER_CUBIC)"
   ]
  },
  {
   "cell_type": "code",
   "execution_count": 19,
   "metadata": {
    "colab": {
     "base_uri": "https://localhost:8080/",
     "height": 35
    },
    "colab_type": "code",
    "executionInfo": {
     "elapsed": 27672,
     "status": "ok",
     "timestamp": 1576988092600,
     "user": {
      "displayName": "Venkatesan M",
      "photoUrl": "https://lh3.googleusercontent.com/a-/AAuE7mAkO8LOy2izH_0OFqjCeiE_OUsTVv9XuaZ6VdCk=s64",
      "userId": "02226678451862578764"
     },
     "user_tz": -330
    },
    "id": "MFdI4z6OvPgX",
    "outputId": "f7aee64c-5298-4534-c552-c6bda68cbf78"
   },
   "outputs": [
    {
     "data": {
      "text/plain": [
       "(409, 28, 28)"
      ]
     },
     "execution_count": 19,
     "metadata": {
      "tags": []
     },
     "output_type": "execute_result"
    }
   ],
   "source": [
    "masks2.shape"
   ]
  },
  {
   "cell_type": "code",
   "execution_count": 0,
   "metadata": {
    "colab": {},
    "colab_type": "code",
    "id": "t-Z28L21d62b"
   },
   "outputs": [],
   "source": [
    "# Split train and valid\n",
    "X_train, X_valid, y_train, y_valid = train_test_split(X_train, masks2, test_size=0.15, random_state=2019)"
   ]
  },
  {
   "cell_type": "markdown",
   "metadata": {
    "colab_type": "text",
    "id": "Thltv_akfOMS"
   },
   "source": [
    "### Compile the model (5 marks)\n",
    "- Complie the model using below parameters\n",
    "  - loss: use the loss function defined above\n",
    "  - optimizers: use Adam optimizer\n",
    "  - metrics: use dice_coefficient function defined above"
   ]
  },
  {
   "cell_type": "code",
   "execution_count": 21,
   "metadata": {
    "colab": {
     "base_uri": "https://localhost:8080/",
     "height": 74
    },
    "colab_type": "code",
    "executionInfo": {
     "elapsed": 27618,
     "status": "ok",
     "timestamp": 1576988092603,
     "user": {
      "displayName": "Venkatesan M",
      "photoUrl": "https://lh3.googleusercontent.com/a-/AAuE7mAkO8LOy2izH_0OFqjCeiE_OUsTVv9XuaZ6VdCk=s64",
      "userId": "02226678451862578764"
     },
     "user_tz": -330
    },
    "id": "atPb8xm2qkK5",
    "outputId": "fa53ec36-21aa-41d9-b529-078366c5990a"
   },
   "outputs": [
    {
     "name": "stdout",
     "output_type": "stream",
     "text": [
      "WARNING:tensorflow:From /usr/local/lib/python3.6/dist-packages/keras/optimizers.py:793: The name tf.train.Optimizer is deprecated. Please use tf.compat.v1.train.Optimizer instead.\n",
      "\n"
     ]
    }
   ],
   "source": [
    "#### Add your code here ####\n",
    "# compile model\n",
    "model.compile(optimizer='Adam', loss=loss, metrics=[dice_coefficient])"
   ]
  },
  {
   "cell_type": "markdown",
   "metadata": {
    "colab_type": "text",
    "id": "VTumZyg0fuVy"
   },
   "source": [
    "### Define checkpoint and earlystopping"
   ]
  },
  {
   "cell_type": "code",
   "execution_count": 0,
   "metadata": {
    "colab": {},
    "colab_type": "code",
    "id": "QNlQHt8DMy7h"
   },
   "outputs": [],
   "source": [
    "#from tensorflow.keras.callbacks import ModelCheckpoint, EarlyStopping, ReduceLROnPlateau\n",
    "checkpoint = ModelCheckpoint(\"model-{loss:.2f}.h5\", monitor=\"loss\", verbose=1, save_best_only=True,\n",
    "                             save_weights_only=True, mode=\"min\", period=1)\n",
    "stop = EarlyStopping(monitor=\"loss\", patience=5, mode=\"min\")\n",
    "reduce_lr = ReduceLROnPlateau(monitor=\"loss\", factor=0.2, patience=5, min_lr=1e-6, verbose=1, mode=\"min\")"
   ]
  },
  {
   "cell_type": "markdown",
   "metadata": {
    "colab_type": "text",
    "id": "LxxbwvXEf07e"
   },
   "source": [
    "### Fit the model (5 marks)\n",
    "- Fit the model using below parameters\n",
    "  - epochs: you can decide\n",
    "  - batch_size: 1\n",
    "  - callbacks: checkpoint, reduce_lr, stop"
   ]
  },
  {
   "cell_type": "code",
   "execution_count": 23,
   "metadata": {
    "colab": {
     "base_uri": "https://localhost:8080/",
     "height": 910
    },
    "colab_type": "code",
    "executionInfo": {
     "elapsed": 62610,
     "status": "ok",
     "timestamp": 1576988127653,
     "user": {
      "displayName": "Venkatesan M",
      "photoUrl": "https://lh3.googleusercontent.com/a-/AAuE7mAkO8LOy2izH_0OFqjCeiE_OUsTVv9XuaZ6VdCk=s64",
      "userId": "02226678451862578764"
     },
     "user_tz": -330
    },
    "id": "guFfKsEmq58j",
    "outputId": "0a9500ed-03db-45e5-c5e6-2d56f4abdff9"
   },
   "outputs": [
    {
     "name": "stdout",
     "output_type": "stream",
     "text": [
      "WARNING:tensorflow:From /usr/local/lib/python3.6/dist-packages/tensorflow_core/python/ops/math_grad.py:1424: where (from tensorflow.python.ops.array_ops) is deprecated and will be removed in a future version.\n",
      "Instructions for updating:\n",
      "Use tf.where in 2.0, which has the same broadcast rule as np.where\n",
      "WARNING:tensorflow:From /usr/local/lib/python3.6/dist-packages/keras/backend/tensorflow_backend.py:1033: The name tf.assign_add is deprecated. Please use tf.compat.v1.assign_add instead.\n",
      "\n",
      "WARNING:tensorflow:From /usr/local/lib/python3.6/dist-packages/keras/backend/tensorflow_backend.py:1020: The name tf.assign is deprecated. Please use tf.compat.v1.assign instead.\n",
      "\n",
      "Epoch 1/10\n",
      "347/347 [==============================] - 5s 16ms/step - loss: 1.3912 - dice_coefficient: 0.4293\n",
      "\n",
      "Epoch 00001: loss improved from inf to 1.39124, saving model to model-1.39.h5\n",
      "Epoch 2/10\n",
      "347/347 [==============================] - 2s 6ms/step - loss: 1.0877 - dice_coefficient: 0.5188\n",
      "\n",
      "Epoch 00002: loss improved from 1.39124 to 1.08771, saving model to model-1.09.h5\n",
      "Epoch 3/10\n",
      "347/347 [==============================] - 2s 6ms/step - loss: 1.0104 - dice_coefficient: 0.5442\n",
      "\n",
      "Epoch 00003: loss improved from 1.08771 to 1.01041, saving model to model-1.01.h5\n",
      "Epoch 4/10\n",
      "347/347 [==============================] - 2s 6ms/step - loss: 0.9869 - dice_coefficient: 0.5531\n",
      "\n",
      "Epoch 00004: loss improved from 1.01041 to 0.98686, saving model to model-0.99.h5\n",
      "Epoch 5/10\n",
      "347/347 [==============================] - 2s 6ms/step - loss: 0.9874 - dice_coefficient: 0.5553\n",
      "\n",
      "Epoch 00005: loss did not improve from 0.98686\n",
      "Epoch 6/10\n",
      "347/347 [==============================] - 2s 6ms/step - loss: 0.9429 - dice_coefficient: 0.5696\n",
      "\n",
      "Epoch 00006: loss improved from 0.98686 to 0.94290, saving model to model-0.94.h5\n",
      "Epoch 7/10\n",
      "347/347 [==============================] - 2s 6ms/step - loss: 0.9581 - dice_coefficient: 0.5659\n",
      "\n",
      "Epoch 00007: loss did not improve from 0.94290\n",
      "Epoch 8/10\n",
      "347/347 [==============================] - 2s 6ms/step - loss: 0.9153 - dice_coefficient: 0.5814\n",
      "\n",
      "Epoch 00008: loss improved from 0.94290 to 0.91527, saving model to model-0.92.h5\n",
      "Epoch 9/10\n",
      "347/347 [==============================] - 2s 6ms/step - loss: 0.9609 - dice_coefficient: 0.5724\n",
      "\n",
      "Epoch 00009: loss did not improve from 0.91527\n",
      "Epoch 10/10\n",
      "347/347 [==============================] - 2s 6ms/step - loss: 0.9302 - dice_coefficient: 0.5799\n",
      "\n",
      "Epoch 00010: loss did not improve from 0.91527\n"
     ]
    },
    {
     "data": {
      "text/plain": [
       "<keras.callbacks.History at 0x7f85a52e1320>"
      ]
     },
     "execution_count": 23,
     "metadata": {
      "tags": []
     },
     "output_type": "execute_result"
    }
   ],
   "source": [
    "#### Add your code here ####\n",
    "model.fit(X_train,y_train,\n",
    "    batch_size=1,    \n",
    "    epochs=10,\n",
    "    callbacks=[checkpoint,reduce_lr,stop]\n",
    ")"
   ]
  },
  {
   "cell_type": "code",
   "execution_count": 24,
   "metadata": {
    "colab": {
     "base_uri": "https://localhost:8080/",
     "height": 54
    },
    "colab_type": "code",
    "executionInfo": {
     "elapsed": 63849,
     "status": "ok",
     "timestamp": 1576988128930,
     "user": {
      "displayName": "Venkatesan M",
      "photoUrl": "https://lh3.googleusercontent.com/a-/AAuE7mAkO8LOy2izH_0OFqjCeiE_OUsTVv9XuaZ6VdCk=s64",
      "userId": "02226678451862578764"
     },
     "user_tz": -330
    },
    "id": "ZACkihFV_A3s",
    "outputId": "2e349a8a-987b-4094-946b-a1e3b4842155"
   },
   "outputs": [
    {
     "name": "stdout",
     "output_type": "stream",
     "text": [
      "62/62 [==============================] - 1s 15ms/step\n"
     ]
    },
    {
     "data": {
      "text/plain": [
       "[0.8116758273493859, 0.6312225980143393]"
      ]
     },
     "execution_count": 24,
     "metadata": {
      "tags": []
     },
     "output_type": "execute_result"
    }
   ],
   "source": [
    "model.evaluate(X_valid, y_valid, verbose=1)"
   ]
  },
  {
   "cell_type": "code",
   "execution_count": 25,
   "metadata": {
    "colab": {
     "base_uri": "https://localhost:8080/",
     "height": 54
    },
    "colab_type": "code",
    "executionInfo": {
     "elapsed": 65192,
     "status": "ok",
     "timestamp": 1576988130311,
     "user": {
      "displayName": "Venkatesan M",
      "photoUrl": "https://lh3.googleusercontent.com/a-/AAuE7mAkO8LOy2izH_0OFqjCeiE_OUsTVv9XuaZ6VdCk=s64",
      "userId": "02226678451862578764"
     },
     "user_tz": -330
    },
    "id": "4XwuNgFe_NkD",
    "outputId": "ab3887db-09be-4cad-d86c-089ded6d094f"
   },
   "outputs": [
    {
     "name": "stdout",
     "output_type": "stream",
     "text": [
      "347/347 [==============================] - 1s 4ms/step\n",
      "62/62 [==============================] - 0s 2ms/step\n"
     ]
    }
   ],
   "source": [
    "# Predict on train, val and test\n",
    "preds_train = model.predict(X_train, verbose=1)\n",
    "preds_val = model.predict(X_valid, verbose=1)"
   ]
  },
  {
   "cell_type": "markdown",
   "metadata": {
    "colab_type": "text",
    "id": "5VtnuzlOf4uL"
   },
   "source": [
    "### Get the predicted mask for a sample image   (5 marks)"
   ]
  },
  {
   "cell_type": "code",
   "execution_count": 26,
   "metadata": {
    "colab": {
     "base_uri": "https://localhost:8080/",
     "height": 54
    },
    "colab_type": "code",
    "executionInfo": {
     "elapsed": 65164,
     "status": "ok",
     "timestamp": 1576988130313,
     "user": {
      "displayName": "Venkatesan M",
      "photoUrl": "https://lh3.googleusercontent.com/a-/AAuE7mAkO8LOy2izH_0OFqjCeiE_OUsTVv9XuaZ6VdCk=s64",
      "userId": "02226678451862578764"
     },
     "user_tz": -330
    },
    "id": "o-CBCMysrchu",
    "outputId": "c4405cb0-04fc-44c1-bbe8-38239b4efb78"
   },
   "outputs": [
    {
     "name": "stdout",
     "output_type": "stream",
     "text": [
      "347/347 [==============================] - 1s 2ms/step\n",
      "1/1 [==============================] - 0s 6ms/step\n"
     ]
    }
   ],
   "source": [
    "n = 10\n",
    "sample_image = X_train[n]\n",
    "sample_image = cv2.resize(sample_image, (IMAGE_WIDTH, IMAGE_HEIGHT))\n",
    "sample_image = np.reshape(sample_image, (1,224,224,3))\n",
    "\n",
    "sample_image_mask = y_train[n]\n",
    "\n",
    "#### Add your code here ####\n",
    "\n",
    "# Predict on sample image\n",
    "preds_train = model.predict(X_train, verbose=1)\n",
    "preds_val = model.predict(sample_image, verbose=1)"
   ]
  },
  {
   "cell_type": "markdown",
   "metadata": {
    "colab_type": "text",
    "id": "fDIetz0HgA4R"
   },
   "source": [
    "### Impose the mask on the image (5 marks)"
   ]
  },
  {
   "cell_type": "code",
   "execution_count": 0,
   "metadata": {
    "colab": {},
    "colab_type": "code",
    "id": "MTAHGkb5xdzu"
   },
   "outputs": [],
   "source": [
    "#### Add your code here ####\n",
    "import matplotlib.pyplot as plt\n",
    "def plot_sample(X, y, preds, ix=None):\n",
    "    if ix is None:\n",
    "        ix = np.random.randint(0, len(X))\n",
    "\n",
    "    has_mask = y[ix].max() > 0\n",
    "\n",
    "    fig, ax = plt.subplots(1, 3, figsize=(20, 10))\n",
    "    ax[0].imshow(X[ix, ..., 0], cmap='hot')\n",
    "    if has_mask:\n",
    "        ax[0].contour(y[ix].squeeze())\n",
    "    ax[0].set_title('Actual')\n",
    "\n",
    "    ax[1].imshow(y[ix].squeeze())\n",
    "    ax[1].set_title('Mask')\n",
    "\n",
    "    ax[2].imshow(preds[ix].squeeze())\n",
    "    if has_mask:\n",
    "        ax[2].contour(preds[ix].squeeze(), colors='k', levels=[0.5])\n",
    "    ax[2].set_title('Mask Predicted')"
   ]
  },
  {
   "cell_type": "code",
   "execution_count": 28,
   "metadata": {
    "colab": {
     "base_uri": "https://localhost:8080/",
     "height": 412
    },
    "colab_type": "code",
    "executionInfo": {
     "elapsed": 66863,
     "status": "ok",
     "timestamp": 1576988132075,
     "user": {
      "displayName": "Venkatesan M",
      "photoUrl": "https://lh3.googleusercontent.com/a-/AAuE7mAkO8LOy2izH_0OFqjCeiE_OUsTVv9XuaZ6VdCk=s64",
      "userId": "02226678451862578764"
     },
     "user_tz": -330
    },
    "id": "0tqnCoXT0Wjs",
    "outputId": "aed08f33-7392-4206-fd9f-b44e934ab000"
   },
   "outputs": [
    {
     "data": {
      "image/png": "[encoded data removed]",
      "text/plain": [
       "<Figure size 1440x720 with 3 Axes>"
      ]
     },
     "metadata": {
      "tags": []
     },
     "output_type": "display_data"
    }
   ],
   "source": [
    "# Check if data looks all right\n",
    "#plot_sample(X_train, masks, preds_train)\n",
    "plot_sample(X_train, y_train, preds_train)"
   ]
  },
  {
   "cell_type": "code",
   "execution_count": 0,
   "metadata": {
    "colab": {},
    "colab_type": "code",
    "id": "rRZJF81y7w9x"
   },
   "outputs": [],
   "source": []
  }
 ],
 "metadata": {
  "accelerator": "GPU",
  "colab": {
   "collapsed_sections": [],
   "name": "Face_detection_Questions_Project_CV_AIML_Online.ipynb",
   "provenance": []
  },
  "kernelspec": {
   "display_name": "Python 3",
   "language": "python",
   "name": "python3"
  },
  "language_info": {
   "codemirror_mode": {
    "name": "ipython",
    "version": 3
   },
   "file_extension": ".py",
   "mimetype": "text/x-python",
   "name": "python",
   "nbconvert_exporter": "python",
   "pygments_lexer": "ipython3",
   "version": "3.7.4"
  }
 },
 "nbformat": 4,
 "nbformat_minor": 1
}
